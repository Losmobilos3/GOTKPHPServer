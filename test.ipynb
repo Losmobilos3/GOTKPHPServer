{
 "cells": [
  {
   "cell_type": "code",
   "execution_count": 1,
   "metadata": {},
   "outputs": [],
   "source": [
    "import requests"
   ]
  },
  {
   "cell_type": "code",
   "execution_count": 13,
   "metadata": {},
   "outputs": [
    {
     "name": "stdout",
     "output_type": "stream",
     "text": [
      "Request URL: http://127.0.0.1/writeToDB/\n",
      "Request Method: POST\n",
      "Request Headers: {'User-Agent': 'python-requests/2.31.0', 'Accept-Encoding': 'gzip, deflate, br, zstd', 'Accept': '*/*', 'Connection': 'keep-alive', 'Content-Length': '51', 'Content-Type': 'application/json'}\n",
      "Request Body: b'{\"timeStamp\": 123456789, \"eventType\": \"dillermand\"}'\n",
      "Response Status Code: 200\n",
      "Response Content: b'Received timeStamp: 123456789, eventType: dillermand\\n'\n",
      "\n",
      "Received timeStamp: 123456789, eventType: dillermand\n",
      "\n"
     ]
    }
   ],
   "source": [
    "url = \"http://127.0.0.1/writeToDB/\"\n",
    "\n",
    "d = {\n",
    "    'timeStamp': 123456789,\n",
    "    'eventType': 'dillermand'\n",
    "}\n",
    "\n",
    "response = requests.post(url, json=d, allow_redirects=False)\n",
    "\n",
    "# Print the request details\n",
    "print(\"Request URL:\", response.request.url)\n",
    "print(\"Request Method:\", response.request.method)\n",
    "print(\"Request Headers:\", response.request.headers)\n",
    "print(\"Request Body:\", response.request.body)\n",
    "print(\"Response Status Code:\", response.status_code)\n",
    "print(\"Response Content:\", response.content)\n",
    "print()\n",
    "print(response.text)"
   ]
  },
  {
   "cell_type": "code",
   "execution_count": null,
   "metadata": {},
   "outputs": [],
   "source": [
    "requests."
   ]
  },
  {
   "cell_type": "code",
   "execution_count": null,
   "metadata": {},
   "outputs": [],
   "source": []
  }
 ],
 "metadata": {
  "kernelspec": {
   "display_name": "base",
   "language": "python",
   "name": "python3"
  },
  "language_info": {
   "codemirror_mode": {
    "name": "ipython",
    "version": 3
   },
   "file_extension": ".py",
   "mimetype": "text/x-python",
   "name": "python",
   "nbconvert_exporter": "python",
   "pygments_lexer": "ipython3",
   "version": "3.11.7"
  }
 },
 "nbformat": 4,
 "nbformat_minor": 2
}
